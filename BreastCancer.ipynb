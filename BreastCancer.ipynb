{
  "nbformat": 4,
  "nbformat_minor": 0,
  "metadata": {
    "colab": {
      "provenance": [],
      "authorship_tag": "ABX9TyMoiMOX+sbZoY/LL611dUCB",
      "include_colab_link": true
    },
    "kernelspec": {
      "name": "python3",
      "display_name": "Python 3"
    },
    "language_info": {
      "name": "python"
    }
  },
  "cells": [
    {
      "cell_type": "markdown",
      "metadata": {
        "id": "view-in-github",
        "colab_type": "text"
      },
      "source": [
        "<a href=\"https://colab.research.google.com/github/Harrisson3/Breast-Cancer-Dataset/blob/main/BreastCancer.ipynb\" target=\"_parent\"><img src=\"https://colab.research.google.com/assets/colab-badge.svg\" alt=\"Open In Colab\"/></a>"
      ]
    },
    {
      "cell_type": "code",
      "execution_count": null,
      "metadata": {
        "id": "f2XQKv9tp_aC"
      },
      "outputs": [],
      "source": [
        "X = df.drop('diagnosis', axis=1)  # Features\n",
        "y = df['diagnosis']  # Labels\n"
      ]
    },
    {
      "cell_type": "code",
      "source": [
        "# Step 1: Import necessary libraries\n",
        "import pandas as pd\n",
        "import numpy as np\n",
        "import matplotlib.pyplot as plt\n",
        "import seaborn as sns\n",
        "from sklearn.model_selection import train_test_split, KFold, cross_val_score\n",
        "from sklearn.naive_bayes import GaussianNB\n",
        "from sklearn.neighbors import KNeighborsClassifier\n",
        "from sklearn.linear_model import LogisticRegression\n",
        "from sklearn.svm import SVC\n",
        "from sklearn.metrics import confusion_matrix, classification_report, accuracy_score\n",
        "from sklearn.preprocessing import StandardScaler\n",
        "\n",
        "# Step 2: Load the dataset from GitHub\n",
        "url = \"https://raw.githubusercontent.com/Harrisson3/Breast-Cancer-Dataset/main/data.csv\"\n",
        "try:\n",
        "    df = pd.read_csv(url)\n",
        "    print(\"Dataset loaded successfully!\")\n",
        "except Exception as e:\n",
        "    print(f\"Error loading dataset: {e}\")\n",
        "    exit()\n",
        "\n",
        "# Step 3: Data Preprocessing\n",
        "# Drop unnecessary columns\n",
        "df = df.drop(['id', 'Unnamed: 32'], axis=1)\n",
        "\n",
        "# Convert 'diagnosis' column to numerical values (M = 1, B = 0)\n",
        "df['diagnosis'] = df['diagnosis'].map({'M': 1, 'B': 0})\n",
        "\n",
        "# Define features and target variable\n",
        "X = df.drop('diagnosis', axis=1)  # Features\n",
        "y = df['diagnosis']  # Labels\n",
        "\n",
        "# Standardize the feature set for better model performance\n",
        "scaler = StandardScaler()\n",
        "X = scaler.fit_transform(X)\n",
        "\n",
        "# Step 4: Split the data into training and testing sets\n",
        "X_train, X_test, y_train, y_test = train_test_split(X, y, test_size=0.3, random_state=11)\n",
        "\n",
        "# Step 5: Check training and testing set sizes\n",
        "print(\"\\nTraining set size:\", X_train.shape[0])\n",
        "print(\"Testing set size:\", X_test.shape[0])\n",
        "\n",
        "# Step 6: Create and train the Gaussian Naive Bayes model\n",
        "nb = GaussianNB()\n",
        "nb.fit(X_train, y_train)\n",
        "\n",
        "# Step 7: Make predictions\n",
        "y_pred = nb.predict(X_test)\n",
        "\n",
        "# Step 8: Evaluate the model\n",
        "accuracy = nb.score(X_test, y_test)\n",
        "print(\"\\nAccuracy of GaussianNB:\", accuracy)\n",
        "\n",
        "# Step 9: Confusion Matrix & Classification Report\n",
        "conf_matrix = confusion_matrix(y_test, y_pred)\n",
        "print(\"\\nConfusion Matrix:\\n\", conf_matrix)\n",
        "print(\"\\nClassification Report:\\n\", classification_report(y_test, y_pred))\n",
        "\n",
        "# Step 10: Visualize the Confusion Matrix\n",
        "plt.figure(figsize=(6, 4))\n",
        "sns.heatmap(conf_matrix, annot=True, fmt='d', cmap='Blues',\n",
        "            xticklabels=['Benign', 'Malignant'],\n",
        "            yticklabels=['Benign', 'Malignant'])\n",
        "plt.xlabel('Predicted')\n",
        "plt.ylabel('Actual')\n",
        "plt.title('Confusion Matrix for GaussianNB')\n",
        "plt.show()\n",
        "\n",
        "# Step 11: K-Fold Cross-Validation\n",
        "kfold = KFold(n_splits=10, random_state=11, shuffle=True)\n",
        "scores = cross_val_score(nb, X, y, cv=kfold)\n",
        "print(\"\\nK-Fold Cross-Validation Scores (GaussianNB):\", scores)\n",
        "print(\"Mean Cross-Validation Accuracy (GaussianNB):\", scores.mean())\n",
        "\n",
        "# Step 12: Comparing Multiple Models\n",
        "estimators = {\n",
        "    'GaussianNB': GaussianNB(),\n",
        "    'KNeighborsClassifier': KNeighborsClassifier(),\n",
        "    'LogisticRegression': LogisticRegression(solver='lbfgs', max_iter=10000),\n",
        "    'SVC': SVC(gamma='scale')\n",
        "}\n",
        "\n",
        "print(\"\\nEvaluating Multiple Models:\")\n",
        "for model_name, model in estimators.items():\n",
        "    scores = cross_val_score(model, X, y, cv=kfold)\n",
        "    print(f\"{model_name} - Mean Cross-Validation Accuracy: {scores.mean():.4f}\")\n"
      ],
      "metadata": {
        "colab": {
          "base_uri": "https://localhost:8080/",
          "height": 971
        },
        "id": "Uq1UzZyfYLZ8",
        "outputId": "39d34a36-ad13-406c-9595-c7600c3bdb44"
      },
      "execution_count": 16,
      "outputs": [
        {
          "output_type": "stream",
          "name": "stdout",
          "text": [
            "Dataset loaded successfully!\n",
            "\n",
            "Training set size: 398\n",
            "Testing set size: 171\n",
            "\n",
            "Accuracy of GaussianNB: 0.9415204678362573\n",
            "\n",
            "Confusion Matrix:\n",
            " [[108   2]\n",
            " [  8  53]]\n",
            "\n",
            "Classification Report:\n",
            "               precision    recall  f1-score   support\n",
            "\n",
            "           0       0.93      0.98      0.96       110\n",
            "           1       0.96      0.87      0.91        61\n",
            "\n",
            "    accuracy                           0.94       171\n",
            "   macro avg       0.95      0.93      0.93       171\n",
            "weighted avg       0.94      0.94      0.94       171\n",
            "\n"
          ]
        },
        {
          "output_type": "display_data",
          "data": {
            "text/plain": [
              "<Figure size 600x400 with 2 Axes>"
            ],
            "image/png": "[encoded data removed]"
          },
          "metadata": {}
        },
        {
          "output_type": "stream",
          "name": "stdout",
          "text": [
            "\n",
            "K-Fold Cross-Validation Scores (GaussianNB): [0.96491228 0.9122807  0.92982456 0.89473684 0.96491228 0.94736842\n",
            " 0.94736842 0.9122807  0.94736842 0.875     ]\n",
            "Mean Cross-Validation Accuracy (GaussianNB): 0.9296052631578947\n",
            "\n",
            "Evaluating Multiple Models:\n",
            "GaussianNB - Mean Cross-Validation Accuracy: 0.9296\n",
            "KNeighborsClassifier - Mean Cross-Validation Accuracy: 0.9683\n",
            "LogisticRegression - Mean Cross-Validation Accuracy: 0.9772\n",
            "SVC - Mean Cross-Validation Accuracy: 0.9789\n"
          ]
        }
      ]
    }
  ]
}